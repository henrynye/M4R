{
 "cells": [
  {
   "cell_type": "code",
   "execution_count": 15,
   "metadata": {},
   "outputs": [],
   "source": [
    "import os\n",
    "from bs4 import BeautifulSoup\n",
    "import re\n",
    "import pandas as pd\n",
    "\n",
    "ta_dir_name = 'tennis_abstract'"
   ]
  },
  {
   "cell_type": "code",
   "execution_count": 12,
   "metadata": {},
   "outputs": [],
   "source": [
    "def get_ta_player_matches(ta_name):\n",
    "    html_path = f'{ta_dir_name}/{ta_name}.html'\n",
    "    assert os.path.exists(html_path)\n",
    "    with open(html_path, 'r') as file:\n",
    "        html_content = file.read()\n",
    "    soup = BeautifulSoup(html_content, \"html.parser\")\n",
    "    script_tags = soup.find_all(\"script\")\n",
    "    matchmx = None\n",
    "    for script in script_tags:\n",
    "        if script.string:  # Ensure the script tag contains JavaScript code\n",
    "            match = re.search(r'var\\s+matchmx\\s*=\\s*(\\[.*?\\]);', script.string, re.DOTALL)\n",
    "            if match:\n",
    "                # Extract the JavaScript array or object\n",
    "                ochoices_str = match.group(1)\n",
    "                # Convert the JavaScript array/object to a Python object\n",
    "                matchmx = eval(ochoices_str)\n",
    "    return matchmx\n",
    "\n",
    "matchmx = get_ta_player_matches('CarlosAlcaraz')\n"
   ]
  },
  {
   "cell_type": "code",
   "execution_count": 7,
   "metadata": {},
   "outputs": [
    {
     "data": {
      "text/plain": [
       "(17, 17, 17, 48)"
      ]
     },
     "execution_count": 7,
     "metadata": {},
     "output_type": "execute_result"
    }
   ],
   "source": [
    "hdrsServe = ['Date', 'Tournament', 'Surface', 'Rd', 'Rk', 'vRk', '', 'Score', 'More', 'DR', 'A%', 'DF%', '1stIn', '1st%', '2nd%', 'BPSvd', 'Time']\n",
    "hdrsReturn = ['Date', 'Tournament', 'Surface', 'Rd', 'Rk', 'vRk', '', 'Score', 'More', 'DR', 'TPW', 'RPW', 'vA%', 'v1st%', 'v2nd%', 'BPCnv', 'Time']\n",
    "hdrsRaw = ['Date', 'Tournament', 'Surface', 'Rd', 'Rk', 'vRk', '', 'Score', 'More', 'TP', 'Aces', 'DFs', 'SP', '1SP', '2SP', 'vA', 'Time']\n",
    "match_example = [\"20250113\", \"Australian Open\", \"Hard\", \"G\", \"L\", \"3\", \"3\", \"\", \"QF\", \"4-6 6-4 6-3 6-4\", \"5\", \"Novak Djokovic\", \"7\", \"7\", \"\", \"R\", \"19870522\", \"188\", \"SRB\", \"0\", \"217\", \"10\", \"5\", \"125\", \"92\", \"62\", \"11\", \"19\", \"7\", \"13\", \"5\", \"3\", \"136\", \"86\", \"54\", \"29\", \"20\", \"7\", \"11\", \"2\", \"\", \"\", \"\", \"2025-580-222\", \"\", \"\", \"\", \"104925\"]\n",
    "match_example_inverse = [\"20250113\", \"Australian Open\", \"Hard\", \"G\", \"W\", \"7\", \"7\", \"\", \"QF\", \"4-6 6-4 6-3 6-4\", \"5\", \"Carlos Alcaraz\", \"3\", \"3\", \"\", \"R\", \"20030505\", \"183\", \"ESP\", \"0\", \"217\", \"5\", \"3\", \"136\", \"86\", \"54\", \"29\", \"20\", \"7\", \"11\", \"10\", \"5\", \"125\", \"92\", \"62\", \"11\", \"19\", \"7\", \"13\", \"2\", \"\", \"\", \"\", \"2025-580-222\", \"\", \"\", \"\", \"207989\"]\n",
    "mahac_example = [\"20250113\", \"Australian Open\", \"Hard\", \"G\", \"W\", \"25\", \"26\", \"\", \"R64\", \"3-6 7-6(1) 6-7(5) 7-6(4) 6-4\", \"5\", \"Reilly Opelka\", \"170\", \"\", \"\", \"R\", \"19970828\", \"211\", \"USA\", \"0\", \"205\", \"16\", \"7\", \"167\", \"105\", \"88\", \"36\", \"28\", \"7\", \"8\", \"40\", \"16\", \"173\", \"115\", \"102\", \"24\", \"27\", \"4\", \"5\", \"2\", \"\", \"\", \"\", \"2025-580-181\", \"\", \"2\", \"2\", \"124187\"]\n",
    "len(hdrsServe), len(hdrsReturn), len(hdrsRaw), len(match_example)"
   ]
  },
  {
   "cell_type": "code",
   "execution_count": 10,
   "metadata": {},
   "outputs": [
    {
     "data": {
      "text/plain": [
       "47"
      ]
     },
     "execution_count": 10,
     "metadata": {},
     "output_type": "execute_result"
    }
   ],
   "source": [
    "match_hdrs = [\n",
    "    'Date', 'Tournament', 'Surface', \"DUNNO G\", \"Result\", \"Rank\", \"Seed\", \"DUNNO \", \"Rd\", \"Score\", \n",
    "    \"Num of sets (i think) 5\", \"Opponent\", \"Opponent rank\", \"Opponent seed\", \"Dunno \", \"Dunno R\", \n",
    "    \"Opponent birthday\", \"Opponent height cm\", \"Opponent nationality\", \"Dunno 0\", \"Dunno 217\", \"Aces\", \n",
    "    \"Double Faults\", \"Total service points\", \"Total first serve points\", \"first serves won\", \"second serves won\", \n",
    "    \"service_games\", \"break_points_saved\", \"break_points_faced\", \n",
    "    \"oaces\",\"odfs\", \"oTotal service points\", \"oTotal first serve points\", \"ofirst serves won\", \"osecond serves won\", \n",
    "    \"oservice_games\", \"obreak_points_saved\", \"obreak_points_faced\", \"obackhand_arms\", \"\", \"\", \"\", \"2025-580-222\", \"\", \"\", \"\", \"oforeign_key\"]\n",
    "matchhead = [\"date\",\"tourn\",\"surf\",\"level\",\"wl\",\"rank\",\"seed\",\"entry\",\"round\",\n",
    "                 \"score\",\"max\",\"opp\",\"orank\",\"oseed\",\"oentry\",\"ohand\",\"obday\",\n",
    "                 \"oht\",\"ocountry\",\"oactive\",\"time\",\"aces\",\"dfs\",\"pts\",\"firsts\",\"fwon\",\n",
    "                 \"swon\",'games',\"saved\",\"chances\",\"oaces\",\"odfs\",\"opts\",\"ofirsts\",\n",
    "                 \"ofwon\",\"oswon\",'ogames',\"osaved\",\"ochances\", \"obackhand\", \"chartlink\",\n",
    "                 \"pslink\",\"whserver\",\"matchid\",\"wh\",\"roundnum\",\"matchnum\"]\n",
    "matchhead_verbose = [\"date\",\"tourn\",\"surf\",\"level\",\"win/loss\",\"rank\",\"seed\",\"entry\",\"round\",\n",
    "                 \"score\",\"max_num_of_sets\",\"opp\",\"orank\",\"oseed\",\"oentry\",\"ohand\",\"obday\",\n",
    "                 \"oheight\",\"ocountry\",\"oactive\",\"time_minutes\",\"aces\",\"dfs\",\"service_pts\",\"first_serves_in\",\"first_serves_won\",\n",
    "                 \"second_serves_won\",'service_games',\"break_points_saved\",\"break_points_faced\",\"oaces\",\"odfs\",\"oservice_pts\",\"ofirst_serves_in\",\"ofirst_serves_won\",\n",
    "                 \"osecond_serves_won\",'oservice_games',\"obreak_points_saved\",\"obreak_points_faced\", \"obackhand\", \"chartlink\",\n",
    "                 \"pslink\",\"whserver\",\"matchid\",\"wh\",\"roundnum\",\"matchnum\", \"oforeign_key\"]\n",
    "levels = {\n",
    "    'G': 'Grand Slam',\n",
    "    'M': 'Masters',\n",
    "    'A': 'ATP',\n",
    "    'D': 'Davis Cup',\n",
    "    'Q': 'Qualifying'\n",
    "    # ...\n",
    "}\n",
    "len(matchhead)"
   ]
  },
  {
   "cell_type": "code",
   "execution_count": 17,
   "metadata": {},
   "outputs": [
    {
     "data": {
      "text/plain": [
       "date                          20250113\n",
       "tourn                  Australian Open\n",
       "surf                              Hard\n",
       "level                                G\n",
       "win/loss                             L\n",
       "rank                                 3\n",
       "seed                                 3\n",
       "entry                                 \n",
       "round                               QF\n",
       "score                  4-6 6-4 6-3 6-4\n",
       "max_num_of_sets                      5\n",
       "opp                     Novak Djokovic\n",
       "orank                                7\n",
       "oseed                                7\n",
       "oentry                                \n",
       "ohand                                R\n",
       "obday                         19870522\n",
       "oheight                            188\n",
       "ocountry                           SRB\n",
       "oactive                              0\n",
       "time_minutes                       217\n",
       "aces                                10\n",
       "dfs                                  5\n",
       "service_pts                        125\n",
       "first_serves_in                     92\n",
       "first_serves_won                    62\n",
       "second_serves_won                   11\n",
       "service_games                       19\n",
       "break_points_saved                   7\n",
       "break_points_faced                  13\n",
       "oaces                                5\n",
       "odfs                                 3\n",
       "oservice_pts                       136\n",
       "ofirst_serves_in                    86\n",
       "ofirst_serves_won                   54\n",
       "osecond_serves_won                  29\n",
       "oservice_games                      20\n",
       "obreak_points_saved                  7\n",
       "obreak_points_faced                 11\n",
       "obackhand                            2\n",
       "chartlink                             \n",
       "pslink                                \n",
       "whserver                              \n",
       "matchid                   2025-580-222\n",
       "wh                                    \n",
       "roundnum                              \n",
       "matchnum                              \n",
       "oforeign_key                    104925\n",
       "Name: 0, dtype: object"
      ]
     },
     "execution_count": 17,
     "metadata": {},
     "output_type": "execute_result"
    }
   ],
   "source": [
    "len(matchmx)\n",
    "match_df = pd.DataFrame(matchmx, columns=matchhead_verbose)\n",
    "match_df.iloc[0]\n"
   ]
  },
  {
   "cell_type": "code",
   "execution_count": null,
   "metadata": {},
   "outputs": [],
   "source": []
  }
 ],
 "metadata": {
  "kernelspec": {
   "display_name": ".venv",
   "language": "python",
   "name": "python3"
  },
  "language_info": {
   "codemirror_mode": {
    "name": "ipython",
    "version": 3
   },
   "file_extension": ".py",
   "mimetype": "text/x-python",
   "name": "python",
   "nbconvert_exporter": "python",
   "pygments_lexer": "ipython3",
   "version": "3.11.9"
  }
 },
 "nbformat": 4,
 "nbformat_minor": 2
}
