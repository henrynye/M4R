{
 "cells": [
  {
   "cell_type": "code",
   "execution_count": 25,
   "metadata": {},
   "outputs": [],
   "source": [
    "from tqdm import tqdm\n",
    "from matplotlib import pyplot as plt\n",
    "import random"
   ]
  },
  {
   "cell_type": "code",
   "execution_count": 26,
   "metadata": {},
   "outputs": [],
   "source": [
    "def calculate_E(R_1, R_2):\n",
    "    return 1.0/(1.0+10.0**((R_2 - R_1) / 400.0))\n",
    "\n",
    "def update_R(R, S, E):\n",
    "    return R + 32.0*(S - E)\n",
    "\n",
    "def play_match(R_A, R_B, epsilon):\n",
    "    E_A = calculate_E(R_A, R_B)\n",
    "    E_B = 1.0 - E_A\n",
    "    result_A = int(random.random() < epsilon)\n",
    "    result_B = 1.0 - result_A\n",
    "    R_A = update_R(R_A, result_A, E_A)\n",
    "    R_B = update_R(R_B, result_B, E_B)\n",
    "    return R_A, R_B"
   ]
  },
  {
   "cell_type": "code",
   "execution_count": 56,
   "metadata": {},
   "outputs": [
    {
     "name": "stderr",
     "output_type": "stream",
     "text": [
      "100%|██████████| 1000/1000 [00:00<?, ?it/s]\n"
     ]
    }
   ],
   "source": [
    "R_A = 2000\n",
    "R_B = 2000\n",
    "epsilon = 0.7\n",
    "E_A = 1.0/(1.0+10.0**((R_B - R_A) / 400.0))\n",
    "\n",
    "Es = []\n",
    "Es.append(E_A)\n",
    "rs = [R_A]\n",
    "\n",
    "K = 32.0\n",
    "C = 400.0\n",
    "\n",
    "for i in tqdm(range(10**3)):\n",
    "    # Calculate expected score for A\n",
    "    E_A = 1.0 / (1.0 + 10.0**((R_B - R_A) / C))\n",
    "    result_A = int(random.random() < epsilon)\n",
    "    r_star = K * (result_A - E_A)\n",
    "    R_A = R_A + r_star\n",
    "    R_B = R_B - r_star  # Elo is zero-sum for two players\n",
    "\n",
    "    Es.append(E_A)\n",
    "    rs.append(R_A)\n",
    "\n",
    "# print(Es)\n",
    "# print(E1s)\n"
   ]
  },
  {
   "cell_type": "code",
   "execution_count": 57,
   "metadata": {},
   "outputs": [
    {
     "name": "stdout",
     "output_type": "stream",
     "text": [
      "0.6865078227089215\n",
      "2071.643937932284\n",
      "0.03284139844400504\n"
     ]
    },
    {
     "data": {
      "image/png": "[encoded data removed]",
      "text/plain": [
       "<Figure size 640x480 with 1 Axes>"
      ]
     },
     "metadata": {},
     "output_type": "display_data"
    }
   ],
   "source": [
    "E_diffs = [abs(Es[i] - Es[i-1]) for i in range(1, len(Es))]\n",
    "\n",
    "\n",
    "# print mean of Es\n",
    "print(sum(Es) / len(Es))\n",
    "print(sum(rs) / len(rs))\n",
    "print(sum(E_diffs) / len(E_diffs))\n",
    "# plot Es\n",
    "points = 10000\n",
    "plt.plot(list(range(len(rs))), rs, 'o', markersize=1)\n",
    "plt.xlabel('Match Number')\n",
    "plt.show()  \n"
   ]
  },
  {
   "cell_type": "code",
   "execution_count": 29,
   "metadata": {},
   "outputs": [
    {
     "data": {
      "text/plain": [
       "15.36"
      ]
     },
     "execution_count": 29,
     "metadata": {},
     "output_type": "execute_result"
    }
   ],
   "source": [
    "64*epsilon*(1-epsilon)"
   ]
  },
  {
   "cell_type": "code",
   "execution_count": 30,
   "metadata": {},
   "outputs": [
    {
     "data": {
      "text/plain": [
       "0.04248562607025587"
      ]
     },
     "execution_count": 30,
     "metadata": {},
     "output_type": "execute_result"
    }
   ],
   "source": [
    "X = 10**((64/400) * (1-epsilon)) - 1\n",
    "Y = 10**(-(64/400) * epsilon) - 1\n",
    "X_dash = (X)/(1 + epsilon * X)\n",
    "Y_dash = (Y)/(1 + epsilon * Y)\n",
    "\n",
    "epsilon * (1-epsilon) * (epsilon * abs(X_dash) + (1-epsilon) * abs(Y_dash))"
   ]
  },
  {
   "cell_type": "code",
   "execution_count": 31,
   "metadata": {},
   "outputs": [
    {
     "data": {
      "text/plain": [
       "0.042485626070255876"
      ]
     },
     "execution_count": 31,
     "metadata": {},
     "output_type": "execute_result"
    }
   ],
   "source": [
    "def next_E(E, S):\n",
    "    r_star = K * (S - E)\n",
    "    return E * (10**(2*r_star/C)) / (1 + E * (10**(2*r_star/C) - 1))\n",
    "\n",
    "expected_E_diff = epsilon * abs(next_E(epsilon, 1) - epsilon) + (1-epsilon) * abs(next_E(epsilon, 0) - epsilon)\n",
    "expected_E_diff"
   ]
  },
  {
   "cell_type": "code",
   "execution_count": 32,
   "metadata": {},
   "outputs": [
    {
     "data": {
      "text/plain": [
       "0.042485626070255834"
      ]
     },
     "execution_count": 32,
     "metadata": {},
     "output_type": "execute_result"
    }
   ],
   "source": [
    "first_bracket = (10**((64/400)*(1-epsilon)))/(1 + epsilon * (10**((64/400)*(1-epsilon)) - 1)) - 1\n",
    "second_bracket = (10**((64/400)*(-epsilon)))/(1 + epsilon * (10**((64/400)*(-epsilon)) - 1)) - 1\n",
    "epsilon * (epsilon * abs(first_bracket) + (1-epsilon) * abs(second_bracket))"
   ]
  },
  {
   "cell_type": "code",
   "execution_count": 33,
   "metadata": {},
   "outputs": [
    {
     "data": {
      "text/plain": [
       "0.042485626070255834"
      ]
     },
     "execution_count": 33,
     "metadata": {},
     "output_type": "execute_result"
    }
   ],
   "source": [
    "X = 10**((64/400) * (1-epsilon)) - 1\n",
    "Y = 10**(-(64/400) * epsilon) - 1\n",
    "first_bracket = (X + 1)/(1 + epsilon * X) - 1\n",
    "second_bracket = (Y + 1)/(1 + epsilon * Y) - 1\n",
    "epsilon * (epsilon * abs(first_bracket) + (1-epsilon) * abs(second_bracket))"
   ]
  },
  {
   "cell_type": "code",
   "execution_count": 34,
   "metadata": {},
   "outputs": [
    {
     "data": {
      "text/plain": [
       "0.04248562607025587"
      ]
     },
     "execution_count": 34,
     "metadata": {},
     "output_type": "execute_result"
    }
   ],
   "source": [
    "X = 10**((64/400) * (1-epsilon)) - 1\n",
    "Y = 10**(-(64/400) * epsilon) - 1\n",
    "first_bracket = (X - epsilon * X)/(1 + epsilon * X)\n",
    "second_bracket = (Y - epsilon * Y)/(1 + epsilon * Y)\n",
    "epsilon * (epsilon * abs(first_bracket) + (1-epsilon) * abs(second_bracket))"
   ]
  },
  {
   "cell_type": "code",
   "execution_count": 35,
   "metadata": {},
   "outputs": [
    {
     "data": {
      "text/plain": [
       "0.04248562607025587"
      ]
     },
     "execution_count": 35,
     "metadata": {},
     "output_type": "execute_result"
    }
   ],
   "source": [
    "X = 10**((64/400) * (1-epsilon)) - 1\n",
    "Y = 10**(-(64/400) * epsilon) - 1\n",
    "first_bracket = (X)/(1 + epsilon * X)\n",
    "second_bracket = (Y)/(1 + epsilon * Y)\n",
    "epsilon * (1-epsilon) * (epsilon * abs(first_bracket) + (1-epsilon) * abs(second_bracket))"
   ]
  },
  {
   "cell_type": "code",
   "execution_count": null,
   "metadata": {},
   "outputs": [],
   "source": []
  }
 ],
 "metadata": {
  "kernelspec": {
   "display_name": "Python 3",
   "language": "python",
   "name": "python3"
  },
  "language_info": {
   "codemirror_mode": {
    "name": "ipython",
    "version": 3
   },
   "file_extension": ".py",
   "mimetype": "text/x-python",
   "name": "python",
   "nbconvert_exporter": "python",
   "pygments_lexer": "ipython3",
   "version": "3.11.9"
  }
 },
 "nbformat": 4,
 "nbformat_minor": 2
}
