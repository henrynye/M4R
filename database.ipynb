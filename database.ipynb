{
 "cells": [
  {
   "cell_type": "code",
   "execution_count": 19,
   "metadata": {},
   "outputs": [
    {
     "name": "stdout",
     "output_type": "stream",
     "text": [
      "Tables: [('tournaments',), ('players',), ('odds',), ('matches',), ('points',), ('stats',)]\n"
     ]
    }
   ],
   "source": [
    "import sqlite3\n",
    "\n",
    "conn = sqlite3.connect('tennis_info.db')\n",
    "cursor = conn.cursor()\n",
    "cursor.execute(\"SELECT name FROM sqlite_master WHERE type='table';\")\n",
    "tables = cursor.fetchall()\n",
    "print(\"Tables:\", tables)\n",
    "\n",
    "\n"
   ]
  },
  {
   "cell_type": "code",
   "execution_count": 3,
   "metadata": {},
   "outputs": [
    {
     "name": "stdout",
     "output_type": "stream",
     "text": [
      "Schema: [(0, 'tournament_id', 'INTEGER', 0, None, 1), (1, 'name', 'TEXT', 1, None, 0), (2, 'number_of_sets', 'INTEGER', 1, None, 0), (3, 'surface', 'TEXT', 1, None, 0), (4, 'tiebreak_length', 'INTEGER', 0, None, 0), (5, 'last_tiebreak_length', 'INTEGER', 0, None, 0)]\n"
     ]
    }
   ],
   "source": [
    "table_name = tables[0][0]  # Change this to a valid table name\n",
    "cursor.execute(f\"PRAGMA table_info({table_name});\")\n",
    "columns = cursor.fetchall()\n",
    "print(\"Schema:\", columns)\n"
   ]
  },
  {
   "cell_type": "code",
   "execution_count": 29,
   "metadata": {},
   "outputs": [
    {
     "name": "stdout",
     "output_type": "stream",
     "text": [
      "tournaments\n",
      "30\n",
      "(2924, 'Australian Open 2017 WC', 2, 'hard', 7, None)\n",
      "(2925, 'Australian Open 2017 Women WC', 2, 'hard', 7, None)\n",
      "(2926, 'Australian Open 2017 Women WC WD', 2, 'hard', 7, None)\n",
      "(2927, 'Australian Open 2017 WC MD', 2, 'hard', 7, None)\n",
      "(3339, 'Australian Open 2017 Qual', 2, 'hard', 7, None)\n",
      "(3346, 'Australian Open 2017 Women Qual', 2, 'hard', 7, None)\n",
      "(3371, 'Australian Open 2017', 2, 'hard', 7, None)\n",
      "(3372, 'Australian Open 2017 Women', 2, 'hard', 7, None)\n",
      "(3462, 'Australian Open 2017 WD', 2, 'hard', 7, None)\n",
      "(3463, 'Australian Open 2017 MD', 2, 'hard', 7, None)\n",
      "(3474, 'Australian Open 2017 XD', 2, 'hard', 7, None)\n",
      "(8072, 'Australian Open Women WC Qual', 2, 'hard', 7, None)\n",
      "(8073, 'Australian Open WC Qual', 2, 'hard', 7, None)\n",
      "(8097, 'Australian Open Women WC', 2, 'hard', 7, None)\n",
      "(8098, 'Australian Open WC', 2, 'hard', 7, None)\n",
      "(8099, 'Australian Open Women WC WD', 2, 'hard', 7, None)\n",
      "(8100, 'Australian Open WC MD', 2, 'hard', 7, None)\n",
      "(8428, 'Australian Open Qual', 2, 'hard', 7, None)\n",
      "(8432, 'Australian Open Women Qual', 2, 'hard', 7, None)\n",
      "(8481, 'Australian Open Women WD', 2, 'hard', 7, None)\n",
      "(8482, 'Australian Open MD', 2, 'hard', 7, None)\n",
      "(8488, 'Australian Open XD', 2, 'hard', 7, None)\n",
      "(8824, '2014 Australian Open', 2, 'hard', 7, None)\n",
      "(13656, 'Australian Open Women', 2, 'hard', 7, None)\n",
      "(13657, 'Australian Open', 2, 'hard', 7, None)\n",
      "(37394, '2023 Australian Open Women', 2, 'hard', 7, None)\n",
      "(39073, 'Australian Open Asia-Pacific WC MD', 2, 'hard', 7, None)\n",
      "(39074, 'Australian Open Asia-Pacific WC', 2, 'hard', 7, None)\n",
      "(39075, 'Australian Open Asia-Pacific WC Women WD', 2, 'hard', 7, None)\n",
      "(39076, 'Australian Open Asia-Pacific WC Women', 2, 'hard', 7, None)\n"
     ]
    }
   ],
   "source": [
    "table_name = tables[0][0]\n",
    "print(table_name)\n",
    "query = f\"SELECT * FROM {table_name} WHERE name LIKE ?;\"\n",
    "cursor.execute(query, (\"%Australian Open%\",))\n",
    "rows = cursor.fetchall()\n",
    "print(len(rows))\n",
    "for row in rows:\n",
    "    print(row)\n"
   ]
  },
  {
   "cell_type": "code",
   "execution_count": 31,
   "metadata": {},
   "outputs": [],
   "source": [
    "table_name = tables[0][0]\n",
    "column_name1 = 'number_of_sets'\n",
    "column_name2 = 'last_tiebreak_length'\n",
    "t_name = 'Australian Open'\n",
    "query1 = f\"UPDATE {table_name} SET {column_name1} = ? WHERE name = ?;\"\n",
    "query2 = f\"UPDATE {table_name} SET {column_name2} = ? WHERE name = ?;\"\n",
    "cursor.execute(query1, (3, t_name))\n",
    "cursor.execute(query2, (10, t_name))\n",
    "conn.commit()\n"
   ]
  },
  {
   "cell_type": "code",
   "execution_count": 22,
   "metadata": {},
   "outputs": [
    {
     "name": "stdout",
     "output_type": "stream",
     "text": [
      "tournaments\n",
      "1\n",
      "(11880, 'US Open Women', 2, 'hard', 7, 10)\n"
     ]
    }
   ],
   "source": [
    "table_name = tables[0][0]\n",
    "print(table_name)\n",
    "query = f\"SELECT * FROM {table_name} WHERE name = ?;\"\n",
    "cursor.execute(query, (\"US Open Women\",))\n",
    "rows = cursor.fetchall()\n",
    "print(len(rows))\n",
    "for row in rows:\n",
    "    print(row)\n"
   ]
  },
  {
   "cell_type": "code",
   "execution_count": null,
   "metadata": {},
   "outputs": [],
   "source": []
  }
 ],
 "metadata": {
  "kernelspec": {
   "display_name": "Python 3",
   "language": "python",
   "name": "python3"
  },
  "language_info": {
   "codemirror_mode": {
    "name": "ipython",
    "version": 3
   },
   "file_extension": ".py",
   "mimetype": "text/x-python",
   "name": "python",
   "nbconvert_exporter": "python",
   "pygments_lexer": "ipython3",
   "version": "3.11.9"
  }
 },
 "nbformat": 4,
 "nbformat_minor": 2
}
