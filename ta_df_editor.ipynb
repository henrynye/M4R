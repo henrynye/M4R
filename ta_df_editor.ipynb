{
 "cells": [
  {
   "cell_type": "code",
   "execution_count": 18,
   "metadata": {},
   "outputs": [],
   "source": [
    "import json\n",
    "import pandas as pd\n",
    "import os\n",
    "from bs4 import BeautifulSoup\n",
    "import re\n",
    "from tqdm import tqdm\n",
    "from collections import defaultdict\n",
    "import matplotlib.pyplot as plt\n",
    "import numpy as np\n",
    "import statistics\n",
    "from sklearn.linear_model import LinearRegression\n",
    "\n",
    "\n",
    "ta_root_dir = 'tennis_abstract'\n",
    "ta_df_dir = 'tennis_abstract_dfs'\n",
    "matchhead_verbose = [\"date\",\"tourn\",\"surf\",\"level\",\"win/loss\",\"rank\",\"seed\",\"entry\",\"round\",\n",
    "                 \"score\",\"max_num_of_sets\",\"opp\",\"orank\",\"oseed\",\"oentry\",\"ohand\",\"obday\",\n",
    "                 \"oheight\",\"ocountry\",\"oactive\",\"time_minutes\",\"aces\",\"dfs\",\"service_pts\",\"first_serves_in\",\"first_serves_won\",\n",
    "                 \"second_serves_won\",'service_games',\"break_points_saved\",\"break_points_faced\",\"oaces\",\"odfs\",\"oservice_pts\",\"ofirst_serves_in\",\"ofirst_serves_won\",\n",
    "                 \"osecond_serves_won\",'oservice_games',\"obreak_points_saved\",\"obreak_points_faced\", \"obackhand\", \"chartlink\",\n",
    "                 \"pslink\",\"whserver\",\"matchid\",\"wh\",\"roundnum\",\"matchnum\", \"oforeign_key\"]\n",
    "\n",
    "round_vals = {\n",
    "    'F': 1,\n",
    "    'SF': 2,\n",
    "    'QF': 3,\n",
    "    'R16': 4,\n",
    "    'R32': 5,\n",
    "    'R64': 6,\n",
    "    'R128': 7,\n",
    "    'Q3': 8,\n",
    "    'Q2': 9,\n",
    "    'Q1': 10\n",
    "}\n",
    "round_vals = defaultdict(lambda: 11, round_vals)\n",
    "prev_match_stats = ['prev_10_mean_serve_win_rate','prev_10_median_serve_win_rate','prev_10_mean_return_win_rate','prev_10_median_return_win_rate','prev_10_mean_first_serve_in_rate','prev_10_median_first_serve_in_rate','prev_10_mean_first_return_in_rate','prev_10_median_first_return_in_rate','prev_10_mean_first_return_win_rate','prev_10_median_first_return_win_rate','prev_10_mean_overall_win_rate','prev_10_median_overall_win_rate']\n",
    "o_prev_match_stats = [f'o{n}' for n in prev_match_stats]\n"
   ]
  },
  {
   "cell_type": "code",
   "execution_count": 19,
   "metadata": {},
   "outputs": [],
   "source": [
    "def gen_df(name):\n",
    "    html_path = f'{ta_root_dir}/{name}.html'\n",
    "    assert os.path.exists(html_path)\n",
    "    with open(html_path, 'r') as file:\n",
    "        html_content = file.read()\n",
    "    soup = BeautifulSoup(html_content, \"html.parser\")\n",
    "    script_tags = soup.find_all(\"script\")\n",
    "    matchmx = None\n",
    "    for script in script_tags:\n",
    "        if script.string:  # Ensure the script tag contains JavaScript code\n",
    "            match = re.search(r'var\\s+matchmx\\s*=\\s*(\\[.*?\\]);', script.string, re.DOTALL)\n",
    "            if match:\n",
    "                # Extract the JavaScript array or object\n",
    "                ochoices_str = match.group(1)\n",
    "                # Convert the JavaScript array/object to a Python object\n",
    "                matchmx = eval(ochoices_str)\n",
    "    assert matchmx is not None\n",
    "    if len(matchmx[0])== 47:\n",
    "        matchmx = [m+[''] for m in matchmx]\n",
    "    try:\n",
    "        match_df = pd.DataFrame(matchmx, columns=matchhead_verbose)\n",
    "    except Exception as e:\n",
    "        breakpoint()\n",
    "    return match_df"
   ]
  },
  {
   "cell_type": "code",
   "execution_count": 20,
   "metadata": {},
   "outputs": [],
   "source": [
    "\n",
    "def calc_serve_win_rate(row):\n",
    "    elems = ['first_serves_won', 'second_serves_won', 'service_pts']\n",
    "    if any([row[elem] == '' for elem in elems]):\n",
    "        return None\n",
    "    denom = float(row['service_pts'])\n",
    "    if denom == 0:\n",
    "        return 0\n",
    "    return (float(row['first_serves_won']) + float(row['second_serves_won'])) / denom\n",
    "\n",
    "def calc_overall_win_rate(row):\n",
    "    elems = ['first_serves_won', 'second_serves_won', 'ofirst_serves_won', 'osecond_serves_won', 'service_pts', 'oservice_pts']\n",
    "    if any([row[elem] == '' for elem in elems]):\n",
    "        return None\n",
    "    denom = float(row['service_pts'] + row['oservice_pts'])\n",
    "    if denom == 0:\n",
    "        return 0\n",
    "    return (float(row['first_serves_won']) + float(row['second_serves_won']) + (float(row['oservice_pts']) - float(row['first_serves_won']) - float(row['second_serves_won'])) ) / denom\n",
    "\n",
    "def calc_return_win_rate(row):\n",
    "    elems = ['ofirst_serves_won', 'osecond_serves_won', 'oservice_pts']\n",
    "    if any([row[elem] == '' for elem in elems]):\n",
    "        return None\n",
    "    denom = float(row['oservice_pts'])\n",
    "    if denom == 0:\n",
    "        return 0\n",
    "    return 1 - ((float(row['ofirst_serves_won']) + float(row['osecond_serves_won'])) / denom)\n",
    "\n",
    "def calc_first_serve_win_rate(row):\n",
    "    elems = ['first_serves_won', 'first_serves_in']\n",
    "    if any([row[elem] == '' for elem in elems]):\n",
    "        return None\n",
    "    denom = float(row['first_serves_in'])\n",
    "    if denom == 0:\n",
    "        return 0\n",
    "    return float(row['first_serves_won']) / denom\n",
    "\n",
    "def calc_first_serve_in_rate(row):\n",
    "    elems = ['service_pts', 'first_serves_in']\n",
    "    if any([row[elem] == '' for elem in elems]):\n",
    "        return None\n",
    "    denom = float(row['service_pts'])\n",
    "    if denom == 0:\n",
    "        return 0\n",
    "    return float(row['first_serves_in']) / denom\n",
    "\n",
    "def calc_first_return_in_rate(row):\n",
    "    elems = ['oservice_pts', 'ofirst_serves_in']\n",
    "    if any([row[elem] == '' for elem in elems]):\n",
    "        return None\n",
    "    denom = float(row['oservice_pts'])\n",
    "    if denom == 0:\n",
    "        return 0\n",
    "    return float(row['ofirst_serves_in']) / denom\n",
    "\n",
    "def calc_second_serve_win_rate(row):\n",
    "    elems = ['second_serves_won', 'service_pts', 'first_serves_in']\n",
    "    if any([row[elem] == '' for elem in elems]):\n",
    "        return None\n",
    "    denom = (float(row['service_pts']) - float(row['first_serves_in']))\n",
    "    if denom == 0:\n",
    "        return 0\n",
    "    return float(row['second_serves_won']) / denom\n",
    "def calc_first_return_win_rate(row):\n",
    "    elems = ['ofirst_serves_won', 'ofirst_serves_in']\n",
    "    if any([row[elem] == '' for elem in elems]):\n",
    "        return None\n",
    "    denom = float(row['ofirst_serves_in'])\n",
    "    if denom == 0:\n",
    "        return 0\n",
    "    return 1 - (float(row['ofirst_serves_won']) / denom)\n",
    "\n",
    "def calc_second_return_win_rate(row):\n",
    "    elems = ['osecond_serves_won', 'oservice_pts', 'ofirst_serves_in']\n",
    "    if any([row[elem] == '' for elem in elems]):\n",
    "        return None\n",
    "    denom = (float(row['oservice_pts']) - float(row['ofirst_serves_in']))\n",
    "    if denom == 0:\n",
    "        return 0\n",
    "    return 1-(float(row['osecond_serves_won']) / denom)"
   ]
  },
  {
   "cell_type": "code",
   "execution_count": 21,
   "metadata": {},
   "outputs": [],
   "source": [
    "def edit_df(name):\n",
    "    match_df = pd.read_pickle(f'{ta_df_dir}/{name}.pkl')\n",
    "    match_df['formatted_opp'] = match_df['opp'].apply(lambda name: name.replace(' ', ''))\n",
    "    match_df['round_val'] = match_df['round'].apply(lambda rd: round_vals[rd])\n",
    "    match_df['serve_win_rate'] = match_df.apply(calc_serve_win_rate, axis=1)\n",
    "    match_df['overall_win_rate'] = match_df.apply(calc_overall_win_rate, axis=1)\n",
    "    match_df['return_win_rate'] = match_df.apply(calc_return_win_rate, axis=1)\n",
    "    match_df['first_serve_in_rate'] = match_df.apply(calc_first_serve_in_rate, axis=1)\n",
    "    match_df['first_return_in_rate'] = match_df.apply(calc_first_return_in_rate, axis=1)\n",
    "    match_df['first_serve_win_rate'] = match_df.apply(calc_first_serve_win_rate, axis=1)\n",
    "    match_df['second_serve_win_rate'] = match_df.apply(calc_second_serve_win_rate, axis=1)\n",
    "    match_df['first_return_win_rate'] = match_df.apply(calc_first_return_win_rate, axis=1)\n",
    "    match_df['second_return_win_rate'] = match_df.apply(calc_second_return_win_rate, axis=1)\n",
    "\n",
    "    rows_to_go = match_df[match_df['serve_win_rate'].isna() | match_df['score'].str.contains('RET') | ~match_df['win/loss'].isin(['W', 'L']) ]\n",
    "    # assert len(rows_to_go) < 0.15 * len(match_df)\n",
    "    match_df.drop(rows_to_go.index, inplace=True)\n",
    "    match_df.sort_index(ascending=False, inplace=True)\n",
    "    window_size = 10\n",
    "    match_df['prev_10_mean_serve_win_rate'] = match_df['serve_win_rate'].rolling(window=window_size, closed='left').mean()\n",
    "    match_df['prev_10_median_serve_win_rate'] = match_df['serve_win_rate'].rolling(window=window_size, closed='left').median()\n",
    "    match_df['prev_10_mean_return_win_rate'] = match_df['return_win_rate'].rolling(window=window_size, closed='left').mean()\n",
    "    match_df['prev_10_median_return_win_rate'] = match_df['return_win_rate'].rolling(window=window_size, closed='left').median()\n",
    "    match_df['prev_10_mean_first_serve_win_rate'] = match_df['first_serve_win_rate'].rolling(window=window_size, closed='left').mean()\n",
    "    match_df['prev_10_median_first_serve_win_rate'] = match_df['first_serve_win_rate'].rolling(window=window_size, closed='left').median()\n",
    "    match_df['prev_10_mean_first_serve_in_rate'] = match_df['first_serve_in_rate'].rolling(window=window_size, closed='left').mean()\n",
    "    match_df['prev_10_median_first_serve_in_rate'] = match_df['first_serve_in_rate'].rolling(window=window_size, closed='left').median()\n",
    "    match_df['prev_10_mean_first_return_in_rate'] = match_df['first_return_in_rate'].rolling(window=window_size, closed='left').mean()\n",
    "    match_df['prev_10_median_first_return_in_rate'] = match_df['first_return_in_rate'].rolling(window=window_size, closed='left').median()\n",
    "    match_df['prev_10_mean_first_return_win_rate'] = match_df['first_return_win_rate'].rolling(window=window_size, closed='left').mean()\n",
    "    match_df['prev_10_median_first_return_win_rate'] = match_df['first_return_win_rate'].rolling(window=window_size, closed='left').median()\n",
    "    match_df['prev_10_mean_overall_win_rate'] = match_df['overall_win_rate'].rolling(window=window_size, closed='left').mean()\n",
    "    match_df['prev_10_median_overall_win_rate'] = match_df['overall_win_rate'].rolling(window=window_size, closed='left').median()\n",
    "    match_df = pd.concat([match_df, rows_to_go])\n",
    "    match_df.sort_index(ascending=False, inplace=True)\n",
    "    pd.to_pickle(match_df, f'{ta_df_dir}/{name}.pkl')"
   ]
  },
  {
   "cell_type": "code",
   "execution_count": 22,
   "metadata": {},
   "outputs": [],
   "source": [
    "name = 'HugoDellien'\n",
    "hugodellien_df = pd.read_pickle(f'{ta_df_dir}/{name}.pkl')"
   ]
  },
  {
   "cell_type": "code",
   "execution_count": 23,
   "metadata": {},
   "outputs": [
    {
     "name": "stderr",
     "output_type": "stream",
     "text": [
      "100%|██████████| 185/185 [00:12<00:00, 15.11it/s]\n"
     ]
    }
   ],
   "source": [
    "name = 'CarlosAlcaraz'\n",
    "alcaraz_html_path = f'{ta_root_dir}/{name}.html'\n",
    "with open(alcaraz_html_path, 'r') as file:\n",
    "    html_content = file.read()\n",
    "soup = BeautifulSoup(html_content, \"html.parser\")\n",
    "script_tags = soup.find_all(\"script\")\n",
    "ochoices = None\n",
    "for script in script_tags:\n",
    "    if script.string:  # Ensure the script tag contains JavaScript code\n",
    "        match = re.search(r'var\\s+ochoices\\s*=\\s*(\\[.*?\\]);', script.string, re.DOTALL)\n",
    "        if match:\n",
    "            # Extract the JavaScript array or object\n",
    "            ochoices_str = match.group(1)\n",
    "            # Convert the JavaScript array/object to a Python object\n",
    "            ochoices = eval(ochoices_str)\n",
    "ta_names = [v.replace(' ', '') for v in ochoices]\n",
    "edit_df(name)\n",
    "for name in tqdm(ta_names):\n",
    "    edit_df(name)\n",
    "\n",
    "# match_df.loc[match_df['serve_win_rate'] < 0.3, 'score']"
   ]
  },
  {
   "cell_type": "code",
   "execution_count": 24,
   "metadata": {},
   "outputs": [],
   "source": [
    "def set_opposition_prev_match_stats(match):\n",
    "    name = 'CarlosAlcaraz'\n",
    "    opp_df = pd.read_pickle(f'{ta_df_dir}/{match[\"formatted_opp\"]}.pkl')\n",
    "    opp_match_stats = opp_df.loc[(opp_df['date'] == match['date']) & (opp_df['formatted_opp'] == name), prev_match_stats]\n",
    "    assert opp_match_stats.shape[0] <= 1\n",
    "    if opp_match_stats.shape[0] == 1:\n",
    "        opp_match_stats = opp_match_stats.iloc[0]\n",
    "        if len(opp_match_stats) == len(prev_match_stats):\n",
    "            return opp_match_stats\n",
    "    return [np.nan for _ in range(len(prev_match_stats))]"
   ]
  },
  {
   "cell_type": "code",
   "execution_count": 25,
   "metadata": {},
   "outputs": [],
   "source": [
    "name = 'CarlosAlcaraz'\n",
    "match_df = pd.read_pickle(f'{ta_df_dir}/{name}.pkl')\n",
    "window_size = 10\n",
    "match_df[o_prev_match_stats] = np.nan\n",
    "match_df[o_prev_match_stats] = match_df.apply(set_opposition_prev_match_stats,axis=1)\n",
    "\n",
    "# return match[['date', 'tourn', 'formatted_opp']]\n",
    "# name2 = 'CasperRuud'\n",
    "# match_df2 = pd.read_pickle(f'{ta_df_dir}/{name2}.pkl')\n",
    "\n",
    "\n",
    "# plt.plot(real_vals, color='b')\n",
    "# plt.plot(predicted_vals, color='r')\n",
    "# plt.show()"
   ]
  },
  {
   "cell_type": "code",
   "execution_count": 26,
   "metadata": {},
   "outputs": [
    {
     "data": {
      "text/plain": [
       "((0.44, -0.49), 0.56)"
      ]
     },
     "execution_count": 26,
     "metadata": {},
     "output_type": "execute_result"
    }
   ],
   "source": [
    "matches_with_oprev_values = match_df.dropna(subset=o_prev_match_stats+prev_match_stats)\n",
    "model = LinearRegression()\n",
    "X = matches_with_oprev_values[['prev_10_mean_serve_win_rate', 'oprev_10_mean_return_win_rate']]\n",
    "y = matches_with_oprev_values['serve_win_rate']\n",
    "model.fit(X, y)\n",
    "(c_serve, c_oreturn), i = model.coef_, model.intercept_\n",
    "match_df['LR_serve_win_rate_pred'] = match_df.loc[matches_with_oprev_values.index].apply(lambda row: c_serve*row['prev_10_mean_serve_win_rate']+c_oreturn*row['oprev_10_mean_return_win_rate']+i, axis=1)\n",
    "(round(c_serve,2), round(c_oreturn,2)), round(i, 2)"
   ]
  },
  {
   "cell_type": "code",
   "execution_count": 27,
   "metadata": {},
   "outputs": [],
   "source": [
    "X_cols = ['prev_10_mean_first_serve_win_rate','prev_10_mean_first_serve_in_rate','oprev_10_mean_first_return_win_rate','oprev_10_mean_first_return_in_rate']\n",
    "matches_with_oprev_values = match_df.dropna(subset=o_prev_match_stats+prev_match_stats)\n",
    "model2 = LinearRegression()\n",
    "X = matches_with_oprev_values[X_cols]\n",
    "y = matches_with_oprev_values['serve_win_rate']\n",
    "model2.fit(X, y)\n",
    "(c_fserve_w, c_fserve_i, c_ofreturn_w, c_ofreturn_i), i = model2.coef_, model2.intercept_\n",
    "match_df['LR_serve_win_rate_pred_2'] = match_df.loc[matches_with_oprev_values.index].apply(lambda row: np.dot(row[X_cols],model2.coef_)+i, axis=1)\n",
    "LR_2_vals = [round(c,2) for c in model2.coef_ + [model2.intercept_]]"
   ]
  },
  {
   "cell_type": "code",
   "execution_count": 28,
   "metadata": {},
   "outputs": [
    {
     "data": {
      "text/plain": [
       "([-0.4, 1.49, 0.45, -0.51], 0.55)"
      ]
     },
     "execution_count": 28,
     "metadata": {},
     "output_type": "execute_result"
    }
   ],
   "source": [
    "X_cols = ['prev_10_mean_overall_win_rate', 'oprev_10_mean_overall_win_rate', 'prev_10_mean_serve_win_rate', 'oprev_10_mean_return_win_rate']\n",
    "matches_with_oprev_values = match_df.dropna(subset=o_prev_match_stats+prev_match_stats)\n",
    "model3 = LinearRegression()\n",
    "X = matches_with_oprev_values[X_cols]\n",
    "y = matches_with_oprev_values['serve_win_rate']\n",
    "model3.fit(X, y)\n",
    "i = model3.intercept_\n",
    "match_df['LR_serve_win_rate_pred_3'] = match_df.loc[matches_with_oprev_values.index].apply(lambda row: np.dot(row[X_cols],model3.coef_)+i, axis=1)\n",
    "[round(c,2) for c in model3.coef_], round(i, 2)"
   ]
  },
  {
   "cell_type": "code",
   "execution_count": 29,
   "metadata": {},
   "outputs": [],
   "source": [
    "# model2 = LinearRegression()\n",
    "# X = matches_with_oprev_values[['prev_10_mean_serve_win_rate', 'oprev_10_mean_return_win_rate']]\n",
    "# mean_prev_10_mean_serve_win_rate = X['prev_10_mean_serve_win_rate'].mean()\n",
    "# mean_oprev_10_mean_return_win_rate = X['oprev_10_mean_return_win_rate'].mean()\n",
    "# match_df['baselined_prev_10_mean_serve_win_rate'] = match_df.loc[matches_with_oprev_values.index, 'prev_10_mean_serve_win_rate'] - mean_prev_10_mean_serve_win_rate\n",
    "# match_df['baselined_oprev_10_mean_return_win_rate'] = match_df.loc[matches_with_oprev_values.index, 'oprev_10_mean_return_win_rate'] - mean_oprev_10_mean_return_win_rate\n",
    "# matches_with_oprev_values = match_df.dropna(subset=o_prev_match_stats+prev_match_stats)\n",
    "# X = matches_with_oprev_values[['baselined_prev_10_mean_serve_win_rate', 'baselined_oprev_10_mean_return_win_rate']]\n",
    "# y = matches_with_oprev_values['serve_win_rate']\n",
    "# model2.fit(X, y)\n",
    "# (c_serve, c_oreturn), i = model2.coef_, model2.intercept_\n",
    "# match_df['LR_serve_win_rate_pred'] = match_df.loc[matches_with_oprev_values.index].apply(lambda row: c_serve*row['baselined_prev_10_mean_serve_win_rate']+c_oreturn*row['baselined_oprev_10_mean_return_win_rate']+i, axis=1)\n",
    "# (round(c_serve,2), round(c_oreturn,2)), round(i, 2)"
   ]
  },
  {
   "cell_type": "code",
   "execution_count": 30,
   "metadata": {},
   "outputs": [
    {
     "name": "stdout",
     "output_type": "stream",
     "text": [
      "mean SD: 0.048554749414693586\n",
      "median SD: 0.047792144632741604\n",
      "LR SD: 0.045238220304446575\n",
      "LR_2 SD: 0.044541357024126524\n",
      "LR_3 SD: 0.045008179211451727\n",
      "\n",
      "mean MAE: 0.06080428077647557\n",
      "median MAE: 0.06125668059257285\n",
      "LR MAE: 0.05812342737564371\n",
      "LR_2 MAE: 0.05786954882833639\n",
      "LR_3 MAE: 0.058264491620476776\n",
      "\n",
      "mean correct rate: 0.08143322475570032\n",
      "median correct rate: 0.06514657980456026\n",
      "LR correct rate: 0.05863192182410423\n",
      "LR_2 correct rate: 0.07166123778501629\n",
      "LR_3 correct rate: 0.06514657980456026\n"
     ]
    }
   ],
   "source": [
    "matches_with_LR_pred = match_df.dropna(subset=['LR_serve_win_rate_pred'])\n",
    "real_vals = list(matches_with_LR_pred['serve_win_rate'])\n",
    "num_of_vals = len(real_vals)\n",
    "correct_threshold = 0.01\n",
    "predicted_vals_mean = matches_with_LR_pred['prev_10_mean_serve_win_rate']\n",
    "predicted_vals_median = matches_with_LR_pred['prev_10_median_serve_win_rate']\n",
    "predicted_vals_LR = matches_with_LR_pred['LR_serve_win_rate_pred']\n",
    "predicted_vals_LR_2 = matches_with_LR_pred['LR_serve_win_rate_pred_2']\n",
    "predicted_vals_LR_3 = matches_with_LR_pred['LR_serve_win_rate_pred_3']\n",
    "print(f'mean SD: {statistics.stdev(np.abs(np.subtract(real_vals, predicted_vals_mean)))}')\n",
    "print(f'median SD: {statistics.stdev(np.abs(np.subtract(real_vals, predicted_vals_median)))}')\n",
    "print(f'LR SD: {statistics.stdev(np.abs(np.subtract(real_vals, predicted_vals_LR)))}')\n",
    "print(f'LR_2 SD: {statistics.stdev(np.abs(np.subtract(real_vals, predicted_vals_LR_2)))}')\n",
    "print(f'LR_3 SD: {statistics.stdev(np.abs(np.subtract(real_vals, predicted_vals_LR_3)))}')\n",
    "print()\n",
    "print(f'mean MAE: {np.abs(np.subtract(real_vals, predicted_vals_mean)).mean()}')\n",
    "print(f'median MAE: {np.abs(np.subtract(real_vals, predicted_vals_median)).mean()}')\n",
    "print(f'LR MAE: {np.abs(np.subtract(real_vals, predicted_vals_LR)).mean()}')\n",
    "print(f'LR_2 MAE: {np.abs(np.subtract(real_vals, predicted_vals_LR_2)).mean()}')\n",
    "print(f'LR_3 MAE: {np.abs(np.subtract(real_vals, predicted_vals_LR_3)).mean()}')\n",
    "print()\n",
    "print(f'mean correct rate: {float(len([p for p,r in zip(real_vals, predicted_vals_mean) if abs(p-r)/r < correct_threshold])) / num_of_vals}')\n",
    "print(f'median correct rate: {float(len([p for p,r in zip(real_vals, predicted_vals_median) if abs(p-r)/r < correct_threshold])) / num_of_vals}')\n",
    "print(f'LR correct rate: {float(len([p for p,r in zip(real_vals, predicted_vals_LR) if abs(p-r)/r < correct_threshold])) / num_of_vals}')\n",
    "print(f'LR_2 correct rate: {float(len([p for p,r in zip(real_vals, predicted_vals_LR_2) if abs(p-r)/r < correct_threshold])) / num_of_vals}')\n",
    "print(f'LR_3 correct rate: {float(len([p for p,r in zip(real_vals, predicted_vals_LR_3) if abs(p-r)/r < correct_threshold])) / num_of_vals}')\n",
    "# print()"
   ]
  },
  {
   "cell_type": "code",
   "execution_count": 31,
   "metadata": {},
   "outputs": [],
   "source": [
    "relevant_cols = ['opp', 'serve_win_rate', 'LR_serve_win_rate_pred'] + ['prev_10_mean_first_serve_win_rate','prev_10_mean_first_serve_in_rate','oprev_10_mean_first_return_win_rate','oprev_10_mean_first_return_in_rate']\n",
    "relevant_df = match_df[relevant_cols]\n",
    "relevant_df = relevant_df.dropna(subset=['LR_serve_win_rate_pred'])"
   ]
  },
  {
   "cell_type": "code",
   "execution_count": 32,
   "metadata": {},
   "outputs": [
    {
     "data": {
      "image/png": "[encoded data removed]",
      "text/plain": [
       "<Figure size 640x480 with 1 Axes>"
      ]
     },
     "metadata": {},
     "output_type": "display_data"
    }
   ],
   "source": [
    "plt.plot(real_vals, color='b')\n",
    "plt.plot(predicted_vals_LR, ':', color='r' )\n",
    "plt.show()"
   ]
  },
  {
   "cell_type": "code",
   "execution_count": null,
   "metadata": {},
   "outputs": [],
   "source": []
  }
 ],
 "metadata": {
  "kernelspec": {
   "display_name": ".venv",
   "language": "python",
   "name": "python3"
  },
  "language_info": {
   "codemirror_mode": {
    "name": "ipython",
    "version": 3
   },
   "file_extension": ".py",
   "mimetype": "text/x-python",
   "name": "python",
   "nbconvert_exporter": "python",
   "pygments_lexer": "ipython3",
   "version": "3.11.9"
  }
 },
 "nbformat": 4,
 "nbformat_minor": 2
}
