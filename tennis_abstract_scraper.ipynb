{
 "cells": [
  {
   "cell_type": "code",
   "execution_count": 22,
   "metadata": {},
   "outputs": [
    {
     "name": "stderr",
     "output_type": "stream",
     "text": [
      " 39%|███▊      | 80/207 [00:13<00:21,  5.83it/s]\n"
     ]
    },
    {
     "ename": "TypeError",
     "evalue": "'NoneType' object is not iterable",
     "output_type": "error",
     "traceback": [
      "\u001b[1;31m---------------------------------------------------------------------------\u001b[0m",
      "\u001b[1;31mTypeError\u001b[0m                                 Traceback (most recent call last)",
      "Cell \u001b[1;32mIn[22], line 80\u001b[0m\n\u001b[0;32m     78\u001b[0m         output_filename \u001b[38;5;241m=\u001b[39m \u001b[38;5;124mf\u001b[39m\u001b[38;5;124m\"\u001b[39m\u001b[38;5;132;01m{\u001b[39;00moutput_dir\u001b[38;5;132;01m}\u001b[39;00m\u001b[38;5;124m/\u001b[39m\u001b[38;5;132;01m{\u001b[39;00mname\u001b[38;5;132;01m}\u001b[39;00m\u001b[38;5;124m.html\u001b[39m\u001b[38;5;124m\"\u001b[39m\n\u001b[0;32m     79\u001b[0m         \u001b[38;5;28;01mif\u001b[39;00m output_filename \u001b[38;5;129;01mnot\u001b[39;00m \u001b[38;5;129;01min\u001b[39;00m existing_files:\n\u001b[1;32m---> 80\u001b[0m             \u001b[43mdownload_webpage\u001b[49m\u001b[43m(\u001b[49m\u001b[38;5;124;43mf\u001b[39;49m\u001b[38;5;124;43m\"\u001b[39;49m\u001b[38;5;132;43;01m{\u001b[39;49;00m\u001b[43mbase_url\u001b[49m\u001b[38;5;132;43;01m}\u001b[39;49;00m\u001b[38;5;132;43;01m{\u001b[39;49;00m\u001b[43mname\u001b[49m\u001b[38;5;132;43;01m}\u001b[39;49;00m\u001b[38;5;124;43m\"\u001b[39;49m\u001b[43m,\u001b[49m\u001b[43m \u001b[49m\u001b[43moutput_filename\u001b[49m\u001b[43m)\u001b[49m\n\u001b[0;32m     81\u001b[0m             flag \u001b[38;5;241m=\u001b[39m \u001b[38;5;28;01mTrue\u001b[39;00m\n\u001b[0;32m     82\u001b[0m \u001b[38;5;66;03m# For a nested path: output_filename = \"tennis_data/players/tennis_player_page.html\"\u001b[39;00m\n\u001b[0;32m     83\u001b[0m \n\u001b[0;32m     84\u001b[0m \u001b[38;5;66;03m# download_webpage(url, output_filename)\u001b[39;00m\n",
      "Cell \u001b[1;32mIn[22], line 56\u001b[0m, in \u001b[0;36mdownload_webpage\u001b[1;34m(url, output_filename)\u001b[0m\n\u001b[0;32m     54\u001b[0m             ochoices \u001b[38;5;241m=\u001b[39m \u001b[38;5;28meval\u001b[39m(ochoices_str)\n\u001b[0;32m     55\u001b[0m             \u001b[38;5;28;01mbreak\u001b[39;00m\n\u001b[1;32m---> 56\u001b[0m formatted_names \u001b[38;5;241m=\u001b[39m \u001b[38;5;28mset\u001b[39m(\u001b[43m[\u001b[49m\u001b[43mn\u001b[49m\u001b[38;5;241;43m.\u001b[39;49m\u001b[43mreplace\u001b[49m\u001b[43m(\u001b[49m\u001b[38;5;124;43m\"\u001b[39;49m\u001b[38;5;124;43m \u001b[39;49m\u001b[38;5;124;43m\"\u001b[39;49m\u001b[43m,\u001b[49m\u001b[43m \u001b[49m\u001b[38;5;124;43m\"\u001b[39;49m\u001b[38;5;124;43m\"\u001b[39;49m\u001b[43m)\u001b[49m\u001b[43m \u001b[49m\u001b[38;5;28;43;01mfor\u001b[39;49;00m\u001b[43m \u001b[49m\u001b[43mn\u001b[49m\u001b[43m \u001b[49m\u001b[38;5;129;43;01min\u001b[39;49;00m\u001b[43m \u001b[49m\u001b[43mochoices\u001b[49m\u001b[43m]\u001b[49m)\n\u001b[0;32m     57\u001b[0m \u001b[38;5;28;01mwith\u001b[39;00m \u001b[38;5;28mopen\u001b[39m(formatted_names_path, \u001b[38;5;124m'\u001b[39m\u001b[38;5;124mr+\u001b[39m\u001b[38;5;124m'\u001b[39m, newline\u001b[38;5;241m=\u001b[39m\u001b[38;5;124m'\u001b[39m\u001b[38;5;124m'\u001b[39m) \u001b[38;5;28;01mas\u001b[39;00m file:\n\u001b[0;32m     58\u001b[0m     reader \u001b[38;5;241m=\u001b[39m csv\u001b[38;5;241m.\u001b[39mreader(file)\n",
      "\u001b[1;31mTypeError\u001b[0m: 'NoneType' object is not iterable"
     ]
    }
   ],
   "source": [
    "import requests\n",
    "from bs4 import BeautifulSoup\n",
    "import os\n",
    "import re\n",
    "import csv\n",
    "from tqdm import tqdm\n",
    "\n",
    "\n",
    "base_url = \"https://www.tennisabstract.com/cgi-bin/player-classic.cgi?p=\"\n",
    "output_dir = \"tennis_abstract\"\n",
    "gmp_name = 'MarianoNavone'\n",
    "# gmp_name = 'GiovanniMpetshiPerricard'\n",
    "formatted_names = 'formmatted_names.csv'\n",
    "formatted_names_path = f'{output_dir}/{formatted_names}'\n",
    "\n",
    "\n",
    "def download_webpage(url, output_filename=\"output.html\"):\n",
    "    \"\"\"\n",
    "    Downloads the HTML content of a webpage and saves it to a file.\n",
    "\n",
    "    Args:\n",
    "      url: The URL of the webpage to download.\n",
    "      output_filename: The name of the file to save the HTML content to.\n",
    "    \"\"\"\n",
    "    # Send an HTTP GET request to the URL\n",
    "    response = requests.get(url)\n",
    "    done = False\n",
    "\n",
    "    # Check if the request was successful (status code 200)\n",
    "    if response.status_code == 200:\n",
    "        # Get the HTML content from the response\n",
    "        html_content = response.text\n",
    "\n",
    "        # Create the output directory if it doesn't exist\n",
    "        output_dir = os.path.dirname(output_filename)\n",
    "        if output_dir and not os.path.exists(output_dir):\n",
    "            os.makedirs(output_dir)\n",
    "\n",
    "        # Save the HTML content to the specified file\n",
    "        with open(output_filename, \"w\", encoding=\"utf-8\") as file:\n",
    "            file.write(html_content)\n",
    "\n",
    "        # Optionally: Parse the HTML content using BeautifulSoup (if needed)\n",
    "        soup = BeautifulSoup(html_content, \"html.parser\")\n",
    "        script_tags = soup.find_all(\"script\")\n",
    "        ochoices = None\n",
    "\n",
    "        for script in script_tags:\n",
    "            if script.string:  # Ensure the script tag contains JavaScript code\n",
    "                match = re.search(r'var\\s+ochoices\\s*=\\s*(\\[.*?\\]);', script.string, re.DOTALL)\n",
    "                if match:\n",
    "                    # Extract the JavaScript array or object\n",
    "                    ochoices_str = match.group(1)\n",
    "                    # Convert the JavaScript array/object to a Python object\n",
    "                    ochoices = eval(ochoices_str)\n",
    "                    break\n",
    "        formatted_names = set([n.replace(\" \", \"\") for n in ochoices])\n",
    "        with open(formatted_names_path, 'r+', newline='') as file:\n",
    "            reader = csv.reader(file)\n",
    "            og_names = set([row[0].strip().rstrip(',') for row in reader])\n",
    "            og_names.update(formatted_names)\n",
    "\n",
    "            file.seek(0)\n",
    "            file.truncate()\n",
    "\n",
    "            writer = csv.writer(file)\n",
    "            writer.writerows([[n] for n in og_names])\n",
    "            done = True\n",
    "    if not done:\n",
    "        breakpoint() \n",
    "\n",
    "# Example usage:\n",
    "# formatted_names = [n.replace(\" \", \"\") for n in gmp_player_names]\n",
    "flag = True\n",
    "while flag:\n",
    "    flag = False\n",
    "    existing_files = [f'{output_dir}/{n}' for n in os.listdir(output_dir)]\n",
    "    with open(formatted_names_path, 'r', newline='') as file:\n",
    "        reader = csv.reader(file)\n",
    "        names = [row[0].strip().rstrip(',') for row in reader]\n",
    "    for name in tqdm(names):\n",
    "        output_filename = f\"{output_dir}/{name}.html\"\n",
    "        if output_filename not in existing_files:\n",
    "            download_webpage(f\"{base_url}{name}\", output_filename)\n",
    "            flag = True\n",
    "# For a nested path: output_filename = \"tennis_data/players/tennis_player_page.html\"\n",
    "\n",
    "# download_webpage(url, output_filename)"
   ]
  },
  {
   "cell_type": "code",
   "execution_count": 21,
   "metadata": {},
   "outputs": [
    {
     "data": {
      "text/plain": [
       "197"
      ]
     },
     "execution_count": 21,
     "metadata": {},
     "output_type": "execute_result"
    }
   ],
   "source": [
    "len([\"Radu Albot\", \"Sebastian Baez\", \"Jarmere Jenkins\", \"Viktor Troicki\", \"Frances Tiafoe\", \"Matthew Ebden\", \"Albert Ramos\", \"Adrian Mannarino\", \"Thai Son Kwiatkowski\", \"Kyle Edmund\", \"Giovanni Mpetshi Perricard\", \"Vasek Pospisil\", \"Juan Martin Del Potro\", \"Nik Razborsek\", \"Gilles Simon\", \"Marcos Giron\", \"Kevin Anderson\", \"Rafael Nadal\", \"Grigor Dimitrov\", \"Yuichi Ito\", \"Stephane Robert\", \"Dudi Sela\", \"Gastao Elias\", \"Jose Rubin Statham\", \"Paul Jubb\", \"Pablo Cuevas\", \"Hubert Hurkacz\", \"Brandon Nakashima\", \"Inigo Cervantes Huegun\", \"Marton Fucsovics\", \"Tatsuma Ito\", \"Daniel Altmaier\", \"Malek Jaziri\", \"Aleksandr Nedovyesov\", \"Santiago Giraldo\", \"Noah Rubin\", \"Steve Johnson\", \"Ivo Klec\", \"Adam Feeney\", \"Andreas Haider Maurer\", \"Stefanos Tsitsipas\", \"Borna Coric\", \"Daniel Ferretti\", \"Jiri Lehecka\", \"Yoshihito Nishioka\", \"Mischa Zverev\", \"Laslo Djere\", \"Alexander Zverev\", \"Brydan Klein\", \"Mikhail Youzhny\", \"Nicolas Kicker\", \"Guido Pella\", \"Dusan Lajovic\", \"Jacob Fearnley\", \"Kei Nishikori\", \"Felix Auger Aliassime\", \"Luke Saville\", \"Tommy Robredo\", \"Jan Satral\", \"John Patrick Smith\", \"Roger Federer\", \"Dustin Brown\", \"John Isner\", \"Thanasi Kokkinakis\", \"Daniil Medvedev\", \"Lorenzo Sonego\", \"Marcos Baghdatis\", \"Marco Cecchinato\", \"Alejandro Gonzalez\", \"Fabio Fognini\", \"Lucas Pouille\", \"Frederico Ferreira Silva\", \"John Millman\", \"Gilles Muller\", \"J J Wolf\", \"Benjamin Becker\", \"James Ward\", \"Sanjar Fayziev\", \"Mikhail Kukushkin\", \"Boy Westerhof\", \"Cristian Garin\", \"Tennys Sandgren\", \"Illya Marchenko\", \"Denis Istomin\", \"James Duckworth\", \"Alejandro Davidovich Fokina\", \"Ruben Bemelmans\", \"Dominic Thiem\", \"Benjamin Mitchell\", \"Feliciano Lopez\", \"Olivier Rochus\", \"Mathieu Rodrigues\", \"Federico Delbonis\", \"Sam Querrey\", \"Logan Mackenzie\", \"Tomas Berdych\", \"Nikoloz Basilashvili\", \"Martin Klizan\", \"Bjorn Fratangelo\", \"Radek Stepanek\", \"Michal Przysiezny\", \"Denis Shapovalov\", \"Ruben Ramirez Hidalgo\", \"Samuel Groth\", \"Tommy Paul\", \"Miloslav Mecir Jr\", \"Donald Young\", \"Fernando Verdasco\", \"Jordan Thompson\", \"Jo Wilfried Tsonga\", \"Rogerio Dutra Silva\", \"Andrej Martin\", \"Nicolas Almagro\", \"Andrey Kuznetsov\", \"Bowen Ouyang\", \"Alex De Minaur\", \"Andrey Rublev\", \"Zhe Li\", \"Novak Djokovic\", \"Norbert Gombos\", \"David Goffin\", \"Roberto Bautista Agut\", \"Robin Haase\", \"Alex Kuznetsov\", \"Mikael Ymer\", \"Aljaz Bedene\", \"Jeremy Chardy\", \"Yibing Wu\", \"Alex Bolt\", \"Gianluca Mager\", \"Greg Jones\", \"Steve Darcis\", \"Gael Monfils\", \"Igor Sijsling\", \"Ivo Karlovic\", \"Jared Donaldson\", \"Diego Schwartzman\", \"Taylor Fritz\", \"Jerzy Janowicz\", \"Alexandre Muller\", \"Chun Hsin Tseng\", \"Kamil Majchrzak\", \"Filip Krajinovic\", \"Di Wu\", \"David Ferrer\", \"Hiroki Moriya\", \"Salvatore Caruso\", \"Benoit Paire\", \"Denis Kudla\", \"Casper Ruud\", \"Daniel Guccione\", \"Antoine Hoang\", \"Juan Monaco\", \"Mackenzie Mcdonald\", \"Facundo Bagnis\", \"Gleb Sakharov\", \"Daniel Gimeno Traver\", \"Liam Broady\", \"Danilo Petrovic\", \"Harry Bourchier\", \"Horacio Zeballos\", \"Tim Smyczek\", \"Karen Khachanov\", \"Benjamin Bonzi\", \"Chuhan Wang\", \"Suk Young Jeong\", \"Matt Reid\", \"Cameron Norrie\", \"Jiri Vesely\", \"Matteo Berrettini\", \"Alexander Bublik\", \"Daniel Brands\", \"Rajeev Ram\", \"Maximilian Marterer\", \"Ryan Harrison\", \"Elias Ymer\", \"Jan Lennard Struff\", \"Damir Dzumhur\", \"Ji Sung Nam\", \"Marinko Matosevic\", \"Alexandr Dolgopolov\", \"Teymuraz Gabashvili\", \"Shota Tagawa\", \"Andy Murray\", \"Reilly Opelka\", \"Jannik Sinner\", \"Richard Gasquet\", \"Pierre Hugues Herbert\", \"Liang Chi Huang\", \"Stan Wawrinka\", \"Pablo Carreno Busta\", \"Milos Raonic\", \"Mirza Basic\", \"Daniel Kosakowski\", \"Jason Kubler\", \"Michael Venus\", \"Andreas Seppi\", \"Michael Mmoh\", \"Marin Cilic\", \"Bradley Klahn\", \"Jack Sock\", \"Roberto Carballes Baena\", \"Blake Mott\", \"Joao Souza\", \"Ryan Agar\", \"Ugo Humbert\", \"Paolo Lorenzi\", \"Philipp Kohlschreiber\"])\n",
    "len([\"Tristan Schoolkate\", \"Bogdan Bobrov\", \"Beibit Zhukayev\", \"Arthur Bouquier\", \"Antoine Bellier\", \"Benjamin Hassan\", \"Aleksandar Vukic\", \"Felipe Meligeni Alves\", \"Ivan Gakhov\", \"Calvin Hemery\", \"Mario Mansilla Diez\", \"Nathan Seateun\", \"Holger Rune\", \"Ilia Simakin\", \"Mikhail Kukushkin\", \"Zsombor Piros\", \"Axel Garcian\", \"Alexander Shevchenko\", \"Federico Gaio\", \"Lorenzo Sonego\", \"Francisco Andreu Garcia\", \"Ben Jones\", \"Sebastian Korda\", \"Ben Shelton\", \"James Duckworth\", \"Bu Yunchaokete\", \"Viktor Durasovic\", \"Garrett Johns\", \"Hady Habib\", \"Carlos Lopez Montagud\", \"Jordan Thompson\", \"Gael Monfils\", \"Lorenzo Musetti\", \"Elmar Ejupovic\", \"Brayden Schnur\", \"Raphael Collignon\", \"Tomas Barrios Vera\", \"Martin Breysach\", \"Adam Walton\", \"Gonzalo Villanueva\", \"Gauthier Onclin\", \"Omar Jasika\", \"Arthur Fils\", \"Alvaro Lopez San Martin\", \"Mackenzie Mcdonald\", \"Florent Bax\", \"Obrad Markovski\", \"Louis Wessels\", \"Frances Tiafoe\", \"Go Soeda\", \"Jakub Mensik\", \"Orlando Luz\", \"Felix Auger Aliassime\", \"Carlos Alcaraz\", \"Alberto Barroso Campos\", \"Benoit Paire\", \"Juan Pablo Varillas\", \"Luca Teboul\", \"Filip Misolic\", \"Skander Mansouri\", \"Matteo Martineau\", \"Maxime Mora\", \"Leandro Riedi\", \"Maxime Janvier\", \"Otto Virtanen\", \"Eduard Esteve Lobato\", \"Joao Menezes\", \"Illya Marchenko\", \"Thai Son Kwiatkowski\", \"Peter Benjamin Privara\", \"Stan Wawrinka\", \"Vitaliy Sachko\", \"Nick Chappell\", \"Niki Kaliyanda Poonacha\", \"Gijs Brouwer\", \"Vlad Victor Cornea\", \"Hamish Stewart\", \"Salvatore Caruso\", \"Alibek Kachmazov\", \"Yasutaka Uchiyama\", \"Mirza Basic\", \"Gabriel Decamps\", \"Edan Leshem\", \"Lucas Catarina\", \"Roberto Carballes Baena\", \"Colin Sinclair\", \"Billy Harris\", \"Alexis Galarneau\", \"Javier Barranco Cosano\", \"Ergi Kirkin\", \"Ulises Blanch\", \"Jan Choinski\", \"Zhizhen Zhang\", \"Karen Khachanov\", \"Gregoire Barrere\", \"Yoshihito Nishioka\", \"Mariano Navone\", \"Steven Diez\", \"Marc Andrea Huesler\", \"Matheus Pucinelli De Almeida\", \"Juan Pablo Ficovich\", \"Tomas Martin Etcheverry\", \"Nicolas Mejia\", \"Mats Rosenkranz\", \"Andres Andrade\", \"Genaro Alberto Olivieri\", \"Piotr Matuszewski\", \"Denis Shapovalov\", \"Vladimir Korolev\", \"Hugo Grenier\", \"Maximilian Neuchrist\", \"Aidan Mchugh\", \"Jorge Martinez Martinez\", \"Richard Gasquet\", \"Edoardo Eremin\", \"Tennys Sandgren\", \"Ugo Blanchet\", \"Nikolas Sanchez Izquierdo\", \"Ryan Peniston\", \"Constant Lestienne\", \"Radu Albot\", \"Jose Rubin Statham\", \"Emil Ruusuvuori\", \"Kaichi Uchida\", \"Antoine Escoffier\", \"Richard Zusman\", \"Thiago Monteiro\", \"Rayane Roumane\", \"Filip Cristian Jianu\", \"Lukas Klein\", \"Louroi Martinez\", \"Alexander Bublik\", \"Norbert Gombos\", \"Paul Cayre\", \"Eliakim Coulibaly\", \"Laurent Lokoli\", \"Mikalai Haliak\", \"Jiri Lehecka\", \"Murkel Alejandro Dellien Velasco\", \"Timo Legout\", \"Zizou Bergs\", \"Nishesh Basavareddy\", \"Yan Bondarevskiy\", \"Reilly Opelka\", \"Blake Ellis\", \"Thiago Agustin Tirante\", \"Dominik Palan\", \"Renzo Olivo\", \"Dane Sweeny\", \"Federico Coria\", \"Pierre Hugues Herbert\", \"Yosuke Watanuki\", \"Erik Crepaldi\", \"Andrea Vavassori\", \"Thiago Seyboth Wild\", \"Hugo Gaston\", \"Yannick Hanfmann\", \"Ernesto Escobedo\", \"Jesper De Jong\", \"Mark Lajal\", \"Mattia Bellucci\", \"Mateus Alves\", \"Zachary Svajda\", \"Julien Evrard\", \"Loris Pourroy\", \"Sho Shimabukuro\", \"Roberto Cid\", \"Manuel Guinard\", \"Alexander Erler\", \"Marcelo Zormann Da Silva\", \"Aidan Mayo\", \"Ji Sung Nam\", \"Camilo Ugo Carabelli\", \"Jorge Brian Panta Herreros\", \"Pol Martin Tiffon\", \"Fabrizio Ornago\", \"Arthur Reymond\", \"Alexandre Aubriot\", \"Maximilian Marterer\", \"Alex Bolt\", \"David Goffin\", \"Fernando Verdasco\", \"Dimitar Kuzmanov\", \"Joe Misrahi\", \"Daniel Masur\", \"Matias Soto\", \"Rodrigo Pacheco Mendez\", \"Amaury Delmas\", \"Alexander Blockx\", \"Yuta Shimizu\", \"Nick Kyrgios\", \"Fajing Sun\", \"Vadym Ursu\", \"Thanasi Kokkinakis\", \"Harold Mayot\", \"Lucas Bouquet\", \"Cem Ilkel\"])\n",
    "len([\"Benoit Paire\", \"Mark Lajal\", \"Marcelo Zormann Da Silva\", \"Felipe Meligeni Alves\", \"Reilly Opelka\", \"Matheus Pucinelli De Almeida\", \"Nicolas Mejia\", \"Arthur Fils\", \"Vladimir Korolev\", \"Radu Albot\", \"Thai Son Kwiatkowski\", \"Martin Breysach\", \"Zizou Bergs\", \"Mikhail Kukushkin\", \"Sho Shimabukuro\", \"Bu Yunchaokete\", \"Holger Rune\", \"Alexander Shevchenko\", \"Zsombor Piros\", \"Alexis Galarneau\", \"Blake Ellis\", \"Andres Andrade\", \"Bogdan Bobrov\", \"Lucas Bouquet\", \"Lorenzo Musetti\", \"Fabrizio Ornago\", \"Alibek Kachmazov\", \"Lucas Catarina\", \"Edoardo Eremin\", \"Antoine Escoffier\", \"Aidan Mayo\", \"Juan Pablo Varillas\", \"Aidan Mchugh\", \"Joe Misrahi\", \"Yosuke Watanuki\", \"Frances Tiafoe\", \"Calvin Hemery\", \"Alex Bolt\", \"Camilo Ugo Carabelli\", \"Brayden Schnur\", \"Yasutaka Uchiyama\", \"Maximilian Marterer\", \"Richard Gasquet\", \"Dominik Palan\", \"Gauthier Onclin\", \"Arthur Reymond\", \"Aleksandar Vukic\", \"Vitaliy Sachko\", \"Gabriel Decamps\", \"Mats Rosenkranz\", \"Ilia Simakin\", \"Otto Virtanen\", \"Dimitar Kuzmanov\", \"Tomas Barrios Vera\", \"Maximilian Neuchrist\", \"Alexander Bublik\", \"Marc Andrea Huesler\", \"Andrea Vavassori\", \"Norbert Gombos\", \"Tomas Martin Etcheverry\", \"Hady Habib\", \"Cem Ilkel\", \"Alberto Barroso Campos\", \"Fajing Sun\", \"Thiago Seyboth Wild\", \"Juan Pablo Ficovich\", \"Joao Menezes\", \"Zhizhen Zhang\", \"Elmar Ejupovic\", \"Yannick Hanfmann\", \"Gregoire Barrere\", \"Nikolas Sanchez Izquierdo\", \"Yoshihito Nishioka\", \"Genaro Alberto Olivieri\", \"Steven Diez\", \"Rayane Roumane\", \"Eduard Esteve Lobato\", \"Lorenzo Sonego\", \"Illya Marchenko\", \"Jan Choinski\", \"Raphael Collignon\", \"Timo Legout\", \"Dane Sweeny\", \"Renzo Olivo\", \"Ivan Gakhov\", \"Salvatore Caruso\", \"Matteo Martineau\", \"Sebastian Korda\", \"Paul Cayre\", \"Colin Sinclair\", \"Billy Harris\", \"Hamish Stewart\", \"Erik Crepaldi\", \"Peter Benjamin Privara\", \"Mattia Bellucci\", \"Tennys Sandgren\", \"Matias Soto\", \"Thiago Agustin Tirante\", \"Kaichi Uchida\", \"Pol Martin Tiffon\", \"Luca Teboul\", \"Pierre Hugues Herbert\", \"James Duckworth\", \"Roberto Cid\", \"Adam Walton\", \"Jakub Mensik\", \"Eliakim Coulibaly\", \"Maxime Janvier\", \"Louroi Martinez\", \"Jorge Martinez Martinez\", \"Arthur Bouquier\", \"Nick Kyrgios\", \"Leandro Riedi\", \"Nishesh Basavareddy\", \"Federico Gaio\", \"Omar Jasika\", \"Garrett Johns\", \"Javier Barranco Cosano\", \"Maxime Mora\", \"Yan Bondarevskiy\", \"Constant Lestienne\", \"Piotr Matuszewski\", \"Filip Misolic\", \"Jorge Brian Panta Herreros\", \"Alexander Erler\", \"Ben Jones\", \"Niki Kaliyanda Poonacha\", \"Mikalai Haliak\", \"Vlad Victor Cornea\", \"Ji Sung Nam\", \"Hugo Gaston\", \"Thiago Monteiro\", \"Hugo Grenier\", \"Florent Bax\", \"Vadym Ursu\", \"Skander Mansouri\", \"Axel Garcian\", \"Roberto Carballes Baena\", \"Tristan Schoolkate\", \"Filip Cristian Jianu\", \"Manuel Guinard\", \"Gonzalo Villanueva\", \"Alexandre Aubriot\", \"David Goffin\", \"Viktor Durasovic\", \"Jesper De Jong\", \"Benjamin Hassan\", \"Denis Shapovalov\", \"Mario Mansilla Diez\", \"Francisco Andreu Garcia\", \"Loris Pourroy\", \"Beibit Zhukayev\", \"Jiri Lehecka\", \"Yuta Shimizu\", \"Mariano Navone\", \"Ernesto Escobedo\", \"Stan Wawrinka\", \"Nathan Seateun\", \"Jordan Thompson\", \"Murkel Alejandro Dellien Velasco\", \"Antoine Bellier\", \"Nick Chappell\", \"Harold Mayot\", \"Ergi Kirkin\", \"Jose Rubin Statham\", \"Alexander Blockx\", \"Ryan Peniston\", \"Edan Leshem\", \"Ugo Blanchet\", \"Alvaro Lopez San Martin\", \"Laurent Lokoli\", \"Daniel Masur\", \"Federico Coria\", \"Richard Zusman\", \"Louis Wessels\", \"Fernando Verdasco\", \"Emil Ruusuvuori\", \"Lukas Klein\", \"Thanasi Kokkinakis\", \"Amaury Delmas\", \"Zachary Svajda\", \"Mirza Basic\", \"Obrad Markovski\", \"Orlando Luz\", \"Carlos Lopez Montagud\", \"Rodrigo Pacheco Mendez\", \"Felix Auger Aliassime\", \"Gijs Brouwer\", \"Mackenzie Mcdonald\", \"Ulises Blanch\", \"Julien Evrard\", \"Go Soeda\", \"Karen Khachanov\", \"Mateus Alves\", \"Carlos Alcaraz\", \"Gael Monfils\", \"Ben Shelton\"])"
   ]
  },
  {
   "cell_type": "code",
   "execution_count": 157,
   "metadata": {},
   "outputs": [
    {
     "data": {
      "text/plain": [
       "(17516, 17516)"
      ]
     },
     "execution_count": 157,
     "metadata": {},
     "output_type": "execute_result"
    }
   ],
   "source": [
    "with open(formatted_names_path, 'r', newline='') as file:\n",
    "    reader = csv.reader(file)\n",
    "    names = [row[0].strip().rstrip(',') for row in reader]\n",
    "len(names),len(set(names))"
   ]
  },
  {
   "cell_type": "code",
   "execution_count": 91,
   "metadata": {},
   "outputs": [
    {
     "data": {
      "text/plain": [
       "15536"
      ]
     },
     "execution_count": 91,
     "metadata": {},
     "output_type": "execute_result"
    }
   ],
   "source": [
    "ta_names = names\n",
    "len(ta_names)\n",
    "# 'AlexMichelsen' in ta_names"
   ]
  },
  {
   "cell_type": "code",
   "execution_count": 75,
   "metadata": {},
   "outputs": [
    {
     "data": {
      "text/plain": [
       "(5708, 5708)"
      ]
     },
     "execution_count": 75,
     "metadata": {},
     "output_type": "execute_result"
    }
   ],
   "source": [
    "def format_name(input_string):\n",
    "    \"\"\"\n",
    "    Extracts and returns the portion of a string from the last capital letter\n",
    "    to the end of the string.\n",
    "\n",
    "    Args:\n",
    "        input_string: The input string.\n",
    "\n",
    "    Returns:\n",
    "        The substring starting from the last capital letter (inclusive) to the end,\n",
    "        or an empty string if no capital letter is found.\n",
    "    \"\"\"\n",
    "    last_capital_index = -1\n",
    "\n",
    "    for i in range(len(input_string) - 1, -1, -1):\n",
    "        if 'A' <= input_string[i] <= 'Z':\n",
    "            last_capital_index = i\n",
    "            break\n",
    "\n",
    "    return ' '.join([input_string[:9],input_string[last_capital_index:]])\n",
    "\n",
    "ta_formatted_names = [format_name(n) for n in ta_names]\n",
    "len(ta_formatted_names), len(set(ta_formatted_names))"
   ]
  },
  {
   "cell_type": "code",
   "execution_count": 76,
   "metadata": {},
   "outputs": [
    {
     "data": {
      "text/plain": [
       "'Benneteau'"
      ]
     },
     "execution_count": 76,
     "metadata": {},
     "output_type": "execute_result"
    }
   ],
   "source": [
    "ta_split_names = [n.split(' ') for n in ta_formatted_names]\n",
    "ta_surname_groups = {}\n",
    "for tup in ta_split_names:\n",
    "    key = tup[1]  # The second element is the key\n",
    "    if key not in ta_surname_groups:\n",
    "        ta_surname_groups[key] = []\n",
    "    ta_surname_groups[key].append(tup[0])\n",
    "ta_surname_groups[list(ta_surname_groups.keys())[1]]\n",
    "[k for k,v in ta_surname_groups.items() if len(v) > 1][0]\n"
   ]
  },
  {
   "cell_type": "code",
   "execution_count": 77,
   "metadata": {},
   "outputs": [],
   "source": [
    "\n",
    "def shortest_unique_prefixes(names):\n",
    "    result = []\n",
    "    for name in names:\n",
    "        # Iterate over possible prefix lengths for the current name\n",
    "        for i in range(1, len(name) + 1):\n",
    "            prefix = name[:i]\n",
    "            # Check all other names to see if any start with this prefix\n",
    "            is_unique = True\n",
    "            for other in names:\n",
    "                if other == name:\n",
    "                    continue  # Skip the same name\n",
    "                if other.startswith(prefix):\n",
    "                    is_unique = False\n",
    "                    break  # No need to check further\n",
    "            if is_unique:\n",
    "                result.append(prefix)\n",
    "                break\n",
    "        else:\n",
    "            # This block executes if no break occurs in the loop, i.e., no unique prefix found\n",
    "            # Append the entire name as the prefix (only occurs if another name is a prefix of this one)\n",
    "            result.append(name)\n",
    "    return result"
   ]
  },
  {
   "cell_type": "code",
   "execution_count": 78,
   "metadata": {},
   "outputs": [
    {
     "data": {
      "text/plain": [
       "[('C', 'Respaut'),\n",
       " ('N', 'Zimonjic'),\n",
       " ('P', 'Cayre'),\n",
       " ('L', 'Claverie'),\n",
       " ('E', 'Noskin'),\n",
       " ('J', 'Tverijonas'),\n",
       " ('W', 'Griffith'),\n",
       " ('A', 'Benneteau'),\n",
       " ('J', 'Benneteau'),\n",
       " ('F', 'Moser')]"
      ]
     },
     "execution_count": 78,
     "metadata": {},
     "output_type": "execute_result"
    }
   ],
   "source": [
    "# [n for n in split_names if n[1] == 'Benneteau']\n",
    "ta_shortest_unique_names = []\n",
    "for sname, fnames in ta_surname_groups.items():\n",
    "    shortest_names = shortest_unique_prefixes(fnames)\n",
    "    ta_shortest_unique_names += [(f, sname) for f in shortest_names]\n",
    "        \n",
    "len(ta_formatted_names), len(ta_shortest_unique_names), len(set(ta_shortest_unique_names))\n",
    "\n",
    "ta_shortest_unique_names[:10]"
   ]
  },
  {
   "cell_type": "code",
   "execution_count": 86,
   "metadata": {},
   "outputs": [
    {
     "data": {
      "text/plain": [
       "36"
      ]
     },
     "execution_count": 86,
     "metadata": {},
     "output_type": "execute_result"
    }
   ],
   "source": [
    "import json\n",
    "ta_snames = [s for f, s in ta_shortest_unique_names]\n",
    "with open('api_player_ids_names.json', 'r') as file:\n",
    "    api_players = json.load(file)\n",
    "with open('api_p_keys_to_bets_api_p_keys.json', 'r') as file:\n",
    "    p_keys_map = json.load(file)\n",
    "api_players = {k:n for k,n in api_players.items() if k in p_keys_map.keys() }\n",
    "api_player_names = api_players.values()\n",
    "api_player_snames = [n.split('. ')[-1] for n in api_player_names]\n",
    "api_player_initials = [n[0] for n in api_player_names]\n",
    "len([n for n in api_player_snames if n not in ta_snames])"
   ]
  },
  {
   "cell_type": "code",
   "execution_count": 87,
   "metadata": {},
   "outputs": [
    {
     "data": {
      "text/plain": [
       "59"
      ]
     },
     "execution_count": 87,
     "metadata": {},
     "output_type": "execute_result"
    }
   ],
   "source": [
    "from collections import Counter\n",
    "included = [n for n in api_player_snames if n in ta_snames]\n",
    "potential_dups = [t for t in ta_snames if t in included]\n",
    "freqs = Counter(potential_dups)\n",
    "len([(k, v) for k,v in freqs.items() if v > 1])"
   ]
  },
  {
   "cell_type": "code",
   "execution_count": 85,
   "metadata": {},
   "outputs": [
    {
     "data": {
      "text/plain": [
       "321"
      ]
     },
     "execution_count": 85,
     "metadata": {},
     "output_type": "execute_result"
    }
   ],
   "source": [
    "with open('api_player_ids_names.json', 'r') as file:\n",
    "    api_players_lnames = json.load(file)\n",
    "len(api_players_lnames)"
   ]
  },
  {
   "cell_type": "code",
   "execution_count": 117,
   "metadata": {},
   "outputs": [
    {
     "data": {
      "text/plain": [
       "(307, 14)"
      ]
     },
     "execution_count": 117,
     "metadata": {},
     "output_type": "execute_result"
    }
   ],
   "source": [
    "with open('bets_player_ids_names.json', 'r') as file:\n",
    "    bets_players = json.load(file)\n",
    "with open('api_p_keys_to_bets_api_p_keys.json', 'r') as file:\n",
    "    p_keys_map = json.load(file)\n",
    "bets_players = {k:n for k,n in bets_players.items() if k in p_keys_map.values() }\n",
    "bets_player_names = bets_players.values()\n",
    "bets_formatted_names = [(k, n.replace(' ', '')) for k,n in bets_players.items()]\n",
    "ta_counter = Counter(ta_names)\n",
    "bets_names_in_ta = [(k,n) for k,n in bets_formatted_names if n in ta_names and ta_counter[n] == 1]\n",
    "bets_names_not_in_ta = [(k,n) for k,n in bets_formatted_names if n not in ta_names]\n",
    "len(bets_names_in_ta), len(bets_names_not_in_ta)\n",
    "# bets_names_not_in_ta\n"
   ]
  },
  {
   "cell_type": "code",
   "execution_count": 123,
   "metadata": {},
   "outputs": [
    {
     "data": {
      "text/plain": [
       "[('197700', 'CarlosAlcarazGarfia'),\n",
       " ('349209', 'JamesMcCabe'),\n",
       " ('2079', 'RobertoBautista-Agut'),\n",
       " ('3532', \"ChristopherO'Connell\"),\n",
       " ('26980', 'MackenzieMcDonald'),\n",
       " ('247884', 'MurkelDellien'),\n",
       " ('208721', 'SoonwooKwon'),\n",
       " ('2033', 'AlbertRamos-Vinolas'),\n",
       " ('47505', 'Tung-LinWu')]"
      ]
     },
     "execution_count": 123,
     "metadata": {},
     "output_type": "execute_result"
    }
   ],
   "source": [
    "bets_p_keys_to_api_p_keys = {v:k for k,v in p_keys_map.items()}\n",
    "api_p_keys_to_ta_names = {bets_p_keys_to_api_p_keys[k]:v for k,v in bets_names_in_ta}\n",
    "len(api_p_keys_to_ta_names)\n",
    "with open('api_p_keys_to_ta_names.json', 'r') as file:\n",
    "    current_map = json.load(file)\n",
    "\n",
    "for k,v in current_map.items():\n",
    "    if k in api_p_keys_to_ta_names:\n",
    "        assert api_p_keys_to_ta_names[k] == v\n",
    "    else:\n",
    "        api_p_keys_to_ta_names[k] = v\n",
    "\n",
    "bets_names_in_ta = [(p_keys_map[k], v) for k,v in api_p_keys_to_ta_names.items()]\n",
    "bets_names_not_in_ta = [(k, v) for k, v in bets_names_not_in_ta if k not in [k for k,v in bets_names_in_ta]]\n",
    "len(bets_names_in_ta), len(bets_names_not_in_ta)\n",
    "bets_names_not_in_ta"
   ]
  },
  {
   "cell_type": "code",
   "execution_count": 149,
   "metadata": {},
   "outputs": [
    {
     "data": {
      "text/plain": [
       "(321, 0)"
      ]
     },
     "execution_count": 149,
     "metadata": {},
     "output_type": "execute_result"
    }
   ],
   "source": [
    "manual_additions = [\n",
    "    ('197700', 'CarlosAlcaraz'),\n",
    "    ('349209', 'JamesMccabe'),\n",
    "    ('2079', 'RobertoBautistaAgut'),\n",
    "    ('3532', \"ChristopherOconnell\"),\n",
    "    ('26980', 'MackenzieMcdonald'),\n",
    "    ('247884', 'MurkelAlejandroDellienVelasco'),\n",
    "    ('208721', 'SoonWooKwon'),\n",
    "    ('2033', 'AlbertRamos'),\n",
    "    ('47505', 'TungLinWu')\n",
    "]\n",
    "bets_names_in_ta += manual_additions\n",
    "bets_names_in_ta = list(set(bets_names_in_ta))\n",
    "bets_names_not_in_ta = [(k, v) for k, v in bets_names_not_in_ta if k not in [k for k,v in bets_names_in_ta]]\n",
    "len(bets_names_in_ta), len(bets_names_not_in_ta)"
   ]
  },
  {
   "cell_type": "code",
   "execution_count": 150,
   "metadata": {},
   "outputs": [
    {
     "data": {
      "text/plain": [
       "0"
      ]
     },
     "execution_count": 150,
     "metadata": {},
     "output_type": "execute_result"
    }
   ],
   "source": [
    "ta_counter['MurkelDellieMurkelAlejandroDellienVelascon']"
   ]
  },
  {
   "cell_type": "code",
   "execution_count": 154,
   "metadata": {},
   "outputs": [],
   "source": [
    "for k,v in bets_names_in_ta:\n",
    "    assert k in bets_players.keys()\n",
    "    assert v in ta_names\n",
    "    api_key = bets_p_keys_to_api_p_keys[k]\n",
    "    if api_key in current_map:\n",
    "        assert current_map[api_key] == v\n",
    "        # if current_map[k] != v:\n",
    "        #     print((k, v, current_map[k]))"
   ]
  },
  {
   "cell_type": "code",
   "execution_count": 156,
   "metadata": {},
   "outputs": [],
   "source": [
    "api_p_keys_to_ta_names = {bets_p_keys_to_api_p_keys[k]:v for k,v in bets_names_in_ta}\n",
    "bets_p_keys_to_ta_names = {k:v for k,v in bets_names_in_ta}\n",
    "with open('bets_p_keys_to_ta_names.json', 'w') as file:\n",
    "    json.dump(bets_p_keys_to_ta_names, file, indent=4)\n",
    "with open('api_p_keys_to_ta_names.json', 'w') as file:\n",
    "    json.dump(api_p_keys_to_ta_names, file, indent=4)"
   ]
  },
  {
   "cell_type": "code",
   "execution_count": null,
   "metadata": {},
   "outputs": [],
   "source": []
  }
 ],
 "metadata": {
  "kernelspec": {
   "display_name": ".venv",
   "language": "python",
   "name": "python3"
  },
  "language_info": {
   "codemirror_mode": {
    "name": "ipython",
    "version": 3
   },
   "file_extension": ".py",
   "mimetype": "text/x-python",
   "name": "python",
   "nbconvert_exporter": "python",
   "pygments_lexer": "ipython3",
   "version": "3.11.9"
  }
 },
 "nbformat": 4,
 "nbformat_minor": 2
}
